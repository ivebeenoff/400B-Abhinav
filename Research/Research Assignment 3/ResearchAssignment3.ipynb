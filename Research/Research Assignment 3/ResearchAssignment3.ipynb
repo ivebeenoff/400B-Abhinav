{
 "cells": [
  {
   "cell_type": "code",
   "execution_count": 4,
   "id": "0f670e07-d39d-47d4-83c9-c6938776a037",
   "metadata": {},
   "outputs": [],
   "source": [
    "# Abhinav Vatsa"
   ]
  },
  {
   "cell_type": "code",
   "execution_count": 6,
   "id": "3fda9b7e-8349-473f-a40c-1a5bf16344d5",
   "metadata": {},
   "outputs": [
    {
     "name": "stdout",
     "output_type": "stream",
     "text": [
      "Moment of Inertia Tensor:\n",
      " [[122. -33. -42.]\n",
      " [-33. 100. -59.]\n",
      " [-42. -59.  70.]]\n",
      "Axis Ratios (b/a, c/a): 0.997877668116669 0.0651165069244291\n",
      "The halo is oblate (flattened).\n"
     ]
    },
    {
     "data": {
      "image/png": "[encoded data removed]",
      "text/plain": [
       "<Figure size 640x480 with 1 Axes>"
      ]
     },
     "metadata": {},
     "output_type": "display_data"
    }
   ],
   "source": [
    "# Research Assignment 3\n",
    "# Project: Determining the Shape of a Dark Matter Halo\n",
    "# Goal: Compute the moment of inertia tensor and determine whether the halo is \n",
    "#       triaxial, oblate, or prolate based on axis ratios.\n",
    "\n",
    "# Importing packages\n",
    "import numpy as np\n",
    "import matplotlib.pyplot as plt\n",
    "\n",
    "# Placeholder made-up data for particle positions and masses\n",
    "positions = np.array([\n",
    "    [1.0, 2.0, 3.0],\n",
    "    [2.0, 3.0, 4.0],\n",
    "    [3.0, 4.0, 5.0],\n",
    "    [4.0, 5.0, 6.0]\n",
    "])\n",
    "masses = np.array([1.0, 1.5, 1.0, 0.5])\n",
    "\n",
    "# Using the COM function from previous homeworks, the center of mass will be computed and the positions will be centered.\n",
    "\n",
    "def compute_inertia_tensor(positions, masses):\n",
    "    \"\"\"\n",
    "    Calculates the moment of inertia tensor for a set of particles.\n",
    "    The formula used is: I_ij = sum_k [ m_k (r_k^2 * delta_ij - x_k,i * x_k,j) ]\n",
    "    Where m_k is the mass of particle k, and x_k,i and x_k,j are the coordinates.\n",
    "    \"\"\"\n",
    "    # Calculate the squared distances of each particle from the origin\n",
    "    r_squared = np.sum(positions ** 2, axis=1)\n",
    "    \n",
    "    # Initialize the inertia tensor as a 3x3 matrix\n",
    "    inertia = np.zeros((3, 3))\n",
    "\n",
    "    # Loop through each pair of axes (i, j)\n",
    "    for i in range(3):\n",
    "        for j in range(3):\n",
    "            # Calculate the diagonal and off-diagonal terms of the inertia tensor\n",
    "            if i == j:\n",
    "                inertia[i, j] = np.sum(masses * (r_squared - positions[:, i] * positions[:, j]))\n",
    "            else:\n",
    "                inertia[i, j] = -np.sum(masses * positions[:, i] * positions[:, j])\n",
    "\n",
    "    return inertia\n",
    "\n",
    "def axis_ratios(I):\n",
    "    \"\"\" Compute eigenvalues and determine axis ratios b/a and c/a. \"\"\"\n",
    "    eigenvalues, _ = np.linalg.eig(I)\n",
    "    eigenvalues = np.sort(eigenvalues)[::-1]  # Sorting in descending order to get a^2, b^2, c^2 in order\n",
    "    if eigenvalues[0] == 0:\n",
    "        return None, None\n",
    "    return np.sqrt(eigenvalues[1] / eigenvalues[0]), np.sqrt(eigenvalues[2] / eigenvalues[0])\n",
    "\n",
    "# Compute the inertia tensor and axis ratios\n",
    "I = compute_inertia_tensor(positions, masses)\n",
    "ba, ca = axis_ratios(I)\n",
    "\n",
    "# Print results\n",
    "print(\"Moment of Inertia Tensor:\\n\", I)\n",
    "print(\"Axis Ratios (b/a, c/a):\", ba, ca)\n",
    "\n",
    "# Determine the shape based on axis ratios\n",
    "if ba == 1 and ca == 1:\n",
    "    print(\"The halo is spherical.\")\n",
    "elif ba < 1 and ca < 1:\n",
    "    print(\"The halo is oblate (flattened).\")\n",
    "elif ba > 1 and ca > 1:\n",
    "    print(\"The halo is prolate (elongated).\")\n",
    "else:\n",
    "    print(\"The halo is triaxial (neither oblate nor prolate).\")\n",
    "\n",
    "# Visualization of the results\n",
    "plt.bar(['a²', 'b²', 'c²'], np.sort(np.linalg.eigvals(I))[::-1])\n",
    "plt.title(\"Squared Lengths of Principal Axes\")\n",
    "plt.ylabel(\"Eigenvalue\")\n",
    "plt.show()\n"
   ]
  },
  {
   "cell_type": "code",
   "execution_count": null,
   "id": "fdd889a7-3793-438b-94b5-ce333f70b66e",
   "metadata": {},
   "outputs": [],
   "source": []
  }
 ],
 "metadata": {
  "kernelspec": {
   "display_name": "Python 3 (ipykernel)",
   "language": "python",
   "name": "python3"
  },
  "language_info": {
   "codemirror_mode": {
    "name": "ipython",
    "version": 3
   },
   "file_extension": ".py",
   "mimetype": "text/x-python",
   "name": "python",
   "nbconvert_exporter": "python",
   "pygments_lexer": "ipython3",
   "version": "3.12.4"
  }
 },
 "nbformat": 4,
 "nbformat_minor": 5
}
