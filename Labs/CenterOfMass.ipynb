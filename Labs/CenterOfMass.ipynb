{
 "cells": [
  {
   "cell_type": "code",
   "execution_count": null,
   "metadata": {
    "collapsed": true,
    "jupyter": {
     "outputs_hidden": true
    }
   },
   "outputs": [],
   "source": [
    "# Homework 4\n",
    "# Center of Mass Position and Velocity\n",
    "# Abhinav Vatsa"
   ]
  },
  {
   "cell_type": "code",
   "execution_count": null,
   "metadata": {},
   "outputs": [],
   "source": [
    "# I am using the template instead of writing a code from scratch as this seems more efficient. "
   ]
  },
  {
   "cell_type": "code",
   "execution_count": 1,
   "metadata": {
    "ExecuteTime": {
     "end_time": "2020-02-04T23:59:21.657237Z",
     "start_time": "2020-02-04T23:59:21.653687Z"
    }
   },
   "outputs": [],
   "source": [
    "# import modules\n",
    "import numpy as np\n",
    "import astropy.units as u\n",
    "import astropy.table as tbl\n",
    "\n",
    "from ReadFile import Read"
   ]
  },
  {
   "cell_type": "code",
   "execution_count": 3,
   "metadata": {
    "ExecuteTime": {
     "end_time": "2020-02-04T23:59:24.003059Z",
     "start_time": "2020-02-04T23:59:23.979271Z"
    }
   },
   "outputs": [],
   "source": [
    "import numpy as np\n",
    "import astropy.units as u\n",
    "from ReadFile import Read\n",
    "\n",
    "class CenterOfMass:\n",
    "    # Class to define COM position and velocity properties of a given galaxy and simulation snapshot\n",
    "\n",
    "    def __init__(self, filename, ptype):\n",
    "        ''' Class to calculate the 6-D phase-space position of a galaxy's center of mass using\n",
    "        a specified particle type. \n",
    "            \n",
    "            PARAMETERS\n",
    "            ----------\n",
    "            filename : `str`\n",
    "                snapshot file\n",
    "            ptype : `int; 1, 2, or 3`\n",
    "                particle type to use for COM calculations\n",
    "        '''\n",
    "     \n",
    "        # read data in the given file using Read\n",
    "        self.time, self.total, self.data = Read(filename)                                                                                             \n",
    "\n",
    "        # create an array to store indexes of particles of desired Ptype                                \n",
    "        self.index = np.where(self.data['type'] == ptype)\n",
    "\n",
    "        # store the mass, positions, velocities of only the particles of the given type\n",
    "        self.m = self.data['m'][self.index]\n",
    "        self.x = self.data['x'][self.index]\n",
    "        self.y = self.data['y'][self.index]\n",
    "        self.z = self.data['z'][self.index]\n",
    "        self.vx = self.data['vx'][self.index]\n",
    "        self.vy = self.data['vy'][self.index]\n",
    "        self.vz = self.data['vz'][self.index]\n",
    "\n",
    "    def COMdefine(self, a, b, c, m):\n",
    "        ''' Method to compute the COM of a generic vector quantity by direct weighted averaging.\n",
    "        \n",
    "        PARAMETERS\n",
    "        ----------\n",
    "        a : `float or np.ndarray of floats`\n",
    "            first vector component\n",
    "        b : `float or np.ndarray of floats`\n",
    "            second vector component\n",
    "        c : `float or np.ndarray of floats`\n",
    "            third vector component\n",
    "        m : `float or np.ndarray of floats`\n",
    "            particle masses\n",
    "        \n",
    "        RETURNS\n",
    "        -------\n",
    "        a_com : `float`\n",
    "            first component on the COM vector\n",
    "        b_com : `float`\n",
    "            second component on the COM vector\n",
    "        c_com : `float`\n",
    "            third component on the COM vector\n",
    "        '''\n",
    "        a_com = np.sum(a * m) / np.sum(m)\n",
    "        b_com = np.sum(b * m) / np.sum(m)\n",
    "        c_com = np.sum(c * m) / np.sum(m)\n",
    "        \n",
    "        return a_com, b_com, c_com\n",
    "\n",
    "    def COM_P(self, delta=0.1, volDec=2.0):\n",
    "        '''Method to compute the position of the center of mass of the galaxy \n",
    "        using the shrinking-sphere method.\n",
    "\n",
    "        PARAMETERS\n",
    "        ----------\n",
    "        delta : `float, optional`\n",
    "            error tolerance in kpc. Default is 0.1 kpc\n",
    "        \n",
    "        RETURNS\n",
    "        ----------\n",
    "        p_COM : `np.ndarray of astropy.Quantity'\n",
    "            3-D position of the center of mass in kpc\n",
    "        '''                                                                     \n",
    "\n",
    "        # First estimate\n",
    "        x_COM, y_COM, z_COM = self.COMdefine(self.x, self.y, self.z, self.m)\n",
    "        r_COM = np.sqrt(x_COM**2 + y_COM**2 + z_COM**2)\n",
    "\n",
    "        # Iterative refinement\n",
    "        x_new = self.x - x_COM\n",
    "        y_new = self.y - y_COM\n",
    "        z_new = self.z - z_COM\n",
    "        r_new = np.sqrt(x_new**2 + y_new**2 + z_new**2)\n",
    "\n",
    "        r_max = max(r_new) / 2.0\n",
    "        change = 1000.0\n",
    "\n",
    "        while (change > delta):\n",
    "            \n",
    "            # Select particles within the reduced radius,\n",
    "            x_new = self.x - x_COM\n",
    "            y_new = self.y - y_COM\n",
    "            z_new = self.z - z_COM\n",
    "            r_new = np.sqrt(x_new**2 + y_new**2 + z_new**2)\n",
    "            \n",
    "            index2 = np.where(r_new < r_max)\n",
    "            \n",
    "            # Selectively retrieve those particles\n",
    "            x2 = self.x[index2]\n",
    "            y2 = self.y[index2]\n",
    "            z2 = self.z[index2]\n",
    "            m2 = self.m[index2]\n",
    "            \n",
    "            # Calculate the COM with these particles\n",
    "            x_COM2, y_COM2, z_COM2 = self.COMdefine(x2, y2, z2, m2)\n",
    "            r_COM2 = np.sqrt(x_COM2**2 + y_COM2**2 + z_COM2**2)\n",
    "            \n",
    "            # Calculate the change in COM\n",
    "            change = np.abs(r_COM - r_COM2)\n",
    "            \n",
    "            # Reduce r_max \n",
    "            r_max /= volDec\n",
    "            \n",
    "            # Reset the COM to the newly calculated values\n",
    "            x_COM = x_COM2\n",
    "            y_COM = y_COM2\n",
    "            z_COM = z_COM2\n",
    "            r_COM = r_COM2\n",
    "        \n",
    "        # Upon reaching convergence:\n",
    "        p_COM = np.array([x_COM, y_COM, z_COM]) * u.kpc\n",
    "        # Rounding\n",
    "        p_COM = np.round(p_COM, 2)\n",
    "        \n",
    "        return p_COM\n",
    "\n",
    "\n",
    "    def COM_V(self, x_COM, y_COM, z_COM):\n",
    "        ''' Method to compute the center of mass velocity based on the center of mass\n",
    "        position.\n",
    "\n",
    "        PARAMETERS\n",
    "        ----------\n",
    "        x_COM : 'astropy quantity'\n",
    "            The x component of the center of mass in kpc\n",
    "        y_COM : 'astropy quantity'\n",
    "            The y component of the center of mass in kpc\n",
    "        z_COM : 'astropy quantity'\n",
    "            The z component of the center of mass in kpc\n",
    "            \n",
    "        RETURNS\n",
    "        -------\n",
    "        v_COM : `np.ndarray of astropy.Quantity'\n",
    "            3-D velocity of the center of mass in km/s\n",
    "        '''\n",
    "        \n",
    "        rv_max = 15.0 * u.kpc\n",
    "\n",
    "        xV = self.x * u.kpc - x_COM\n",
    "        yV = self.y * u.kpc - y_COM\n",
    "        zV = self.z * u.kpc - z_COM\n",
    "        rV = np.sqrt(xV**2 + yV**2 + zV**2)\n",
    "\n",
    "        indexV = np.where(rV < rv_max)\n",
    "\n",
    "        vx_new = self.vx[indexV]\n",
    "        vy_new = self.vy[indexV]\n",
    "        vz_new = self.vz[indexV]\n",
    "        m_new = self.m[indexV]\n",
    "\n",
    "        vx_COM, vy_COM, vz_COM = self.COMdefine(vx_new, vy_new, vz_new, m_new)\n",
    "\n",
    "        v_COM = np.array([vx_COM, vy_COM, vz_COM]) * u.km / u.s\n",
    "        return np.round(v_COM, 2)\n"
   ]
  },
  {
   "cell_type": "code",
   "execution_count": 5,
   "metadata": {
    "ExecuteTime": {
     "end_time": "2020-02-04T23:59:30.160978Z",
     "start_time": "2020-02-04T23:59:26.220455Z"
    }
   },
   "outputs": [],
   "source": [
    "# Create a Center of Mass object for the Milky Way (MW)\n",
    "MW_COM = CenterOfMass(\"MW_000.txt\", 2)\n",
    "\n",
    "# Create a Center of Mass object for Andromeda (M31)\n",
    "M31_COM = CenterOfMass(\"M31_000.txt\", 2)\n",
    "\n",
    "# Create a Center of Mass object for Triangulum (M33)\n",
    "M33_COM = CenterOfMass(\"M33_000.txt\", 2)\n"
   ]
  },
  {
   "cell_type": "code",
   "execution_count": 6,
   "metadata": {
    "ExecuteTime": {
     "end_time": "2020-02-04T23:59:30.820428Z",
     "start_time": "2020-02-04T23:59:30.761163Z"
    }
   },
   "outputs": [
    {
     "name": "stdout",
     "output_type": "stream",
     "text": [
      "MW COM Position (kpc): [-2.07  2.95 -1.45] kpc\n",
      "MW COM Velocity (km/s): [ 0.94  6.32 -1.35] km / s\n",
      "M31 COM Position (kpc): [-377.66  611.43 -284.64] kpc\n",
      "M31 COM Velocity (km/s): [ 72.85 -72.14  49.  ] km / s\n",
      "M33 COM Position (kpc): [-476.22  491.44 -412.4 ] kpc\n",
      "M33 COM Velocity (km/s): [ 44.42 101.78 142.23] km / s\n"
     ]
    }
   ],
   "source": [
    "# 1.\n",
    "# MW: Store the position and velocity COM\n",
    "MW_COM_p = MW_COM.COM_P(0.1)\n",
    "print(\"MW COM Position (kpc):\", MW_COM_p)\n",
    "\n",
    "MW_COM_v = MW_COM.COM_V(MW_COM_p[0], MW_COM_p[1], MW_COM_p[2])\n",
    "print(\"MW COM Velocity (km/s):\", MW_COM_v)\n",
    "\n",
    "# M31: Store the position and velocity COM\n",
    "M31_COM_p = M31_COM.COM_P(0.1)\n",
    "print(\"M31 COM Position (kpc):\", M31_COM_p)\n",
    "\n",
    "M31_COM_v = M31_COM.COM_V(M31_COM_p[0], M31_COM_p[1], M31_COM_p[2])\n",
    "print(\"M31 COM Velocity (km/s):\", M31_COM_v)\n",
    "\n",
    "# M33: Store the position and velocity COM\n",
    "M33_COM_p = M33_COM.COM_P(0.1)\n",
    "print(\"M33 COM Position (kpc):\", M33_COM_p)\n",
    "\n",
    "M33_COM_v = M33_COM.COM_V(M33_COM_p[0], M33_COM_p[1], M33_COM_p[2])\n",
    "print(\"M33 COM Velocity (km/s):\", M33_COM_v)\n"
   ]
  },
  {
   "cell_type": "code",
   "execution_count": 11,
   "metadata": {},
   "outputs": [
    {
     "name": "stdout",
     "output_type": "stream",
     "text": [
      "MW-M31 Separation: 769.098 kpc\n",
      "MW-M31 Velocity: 117.738 km / s\n",
      "M33-M31 Separation: 201.083 kpc\n",
      "M33-M31 Velocity: 199.370 km / s\n"
     ]
    }
   ],
   "source": [
    "# 2. \n",
    "# Separation and Velocity Between MW and M31\n",
    "# Compute separation between MW and M31\n",
    "MW_M31_sep = np.sqrt((MW_COM_p[0] - M31_COM_p[0])**2 +\n",
    "                      (MW_COM_p[1] - M31_COM_p[1])**2 +\n",
    "                      (MW_COM_p[2] - M31_COM_p[2])**2)\n",
    "\n",
    "# Compute relative velocity\n",
    "MW_M31_vel = np.sqrt((MW_COM_v[0] - M31_COM_v[0])**2 +\n",
    "                      (MW_COM_v[1] - M31_COM_v[1])**2 +\n",
    "                      (MW_COM_v[2] - M31_COM_v[2])**2)\n",
    "\n",
    "# Print results rounded to three decimal places\n",
    "print(f\"MW-M31 Separation: {MW_M31_sep:.3f}\")\n",
    "print(f\"MW-M31 Velocity: {MW_M31_vel:.3f}\")\n",
    "\n",
    "# 3. \n",
    "# Compute separation between M33 and M31\n",
    "M33_M31_sep = np.sqrt((M33_COM_p[0] - M31_COM_p[0])**2 +\n",
    "                      (M33_COM_p[1] - M31_COM_p[1])**2 +\n",
    "                      (M33_COM_p[2] - M31_COM_p[2])**2)\n",
    "\n",
    "# Compute relative velocity\n",
    "M33_M31_vel = np.sqrt((M33_COM_v[0] - M31_COM_v[0])**2 +\n",
    "                      (M33_COM_v[1] - M31_COM_v[1])**2 +\n",
    "                      (M33_COM_v[2] - M31_COM_v[2])**2)\n",
    "\n",
    "# Print results rounded to three decimal places\n",
    "print(f\"M33-M31 Separation: {M33_M31_sep:.3f}\")\n",
    "print(f\"M33-M31 Velocity: {M33_M31_vel:.3f}\")\n",
    "\n",
    "\n",
    "\n"
   ]
  },
  {
   "cell_type": "code",
   "execution_count": null,
   "metadata": {},
   "outputs": [],
   "source": [
    "# 4\n",
    "# The iterative process for finding the COM is essential because MW and M31 are in the process of merging, which means their mass distribution isn’t uniform or stable. \n",
    "# There are tidal tails, streams, and other particles that aren’t tightly bound, and if we just took a simple average, those could throw off our results. \n",
    "# By shrinking the search radius step by step, we can focus on the densest, most gravitationally bound part of the galaxy and get a more accurate COM.\n",
    "# This methodology is useful when dealing with galaxies that are interacting and not in perfect equilibrium, hence it was invoked in this instance."
   ]
  }
 ],
 "metadata": {
  "kernelspec": {
   "display_name": "Python 3 (ipykernel)",
   "language": "python",
   "name": "python3"
  },
  "language_info": {
   "codemirror_mode": {
    "name": "ipython",
    "version": 3
   },
   "file_extension": ".py",
   "mimetype": "text/x-python",
   "name": "python",
   "nbconvert_exporter": "python",
   "pygments_lexer": "ipython3",
   "version": "3.12.4"
  },
  "varInspector": {
   "cols": {
    "lenName": 16,
    "lenType": 16,
    "lenVar": 40
   },
   "kernels_config": {
    "python": {
     "delete_cmd_postfix": "",
     "delete_cmd_prefix": "del ",
     "library": "var_list.py",
     "varRefreshCmd": "print(var_dic_list())"
    },
    "r": {
     "delete_cmd_postfix": ") ",
     "delete_cmd_prefix": "rm(",
     "library": "var_list.r",
     "varRefreshCmd": "cat(var_dic_list()) "
    }
   },
   "types_to_exclude": [
    "module",
    "function",
    "builtin_function_or_method",
    "instance",
    "_Feature"
   ],
   "window_display": false
  }
 },
 "nbformat": 4,
 "nbformat_minor": 4
}
