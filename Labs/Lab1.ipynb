{
 "cells": [
  {
   "cell_type": "markdown",
   "metadata": {},
   "source": [
    "# In Class Lab 1\n",
    "\n",
    "### Due by midnight, thursday in your github repository 'Labs/Lab1' folder\n"
   ]
  },
  {
   "cell_type": "code",
   "execution_count": null,
   "metadata": {},
   "outputs": [],
   "source": [
    "# Import Modules \n",
    "import numpy as np # import numpy\n",
    "import astropy.units as u # import astropy units\n",
    "from astropy import constants as const # import astropy constants"
   ]
  },
  {
   "cell_type": "markdown",
   "metadata": {},
   "source": [
    "### Astropy Units:  https://docs.astropy.org/en/stable/units/index.html"
   ]
  },
  {
   "cell_type": "markdown",
   "metadata": {},
   "source": [
    "\n",
    "## Part A:  The Local Standard of Rest\n",
    "Proper motion of Sgr A* from Reid & Brunthaler 2004\n",
    "$\\mu = 6.379$ mas/yr \n",
    "\n",
    "Peculiar motion of the sun, $v_\\odot$ = 12.24 km/s  (Schonrich 2010)\n",
    "\n",
    "\n",
    "$v_{tan} = 4.74 \\frac{\\mu}{\\rm mas/yr} \\frac{R_o}{\\rm kpc} = V_{LSR} + v_\\odot$\n",
    "\n",
    "\n",
    "### a)\n",
    "\n",
    "Create a function called VLSR to compute the local standard of res (V$_{LSR}$).\n",
    "\n",
    "The function should take as input: the solar radius (R$_o$), the proper motion (mu)\n",
    "and the peculiar motion of the sun in the $v_\\odot$ direction.\n",
    "\n",
    "Compute V$_{LSR}$ using three different values R$_o$: \n",
    "1. Water Maser Distance for the Sun :  R$_o$ = 8.34 kpc   (Reid 2014 ApJ 783) \n",
    "2. GRAVITY Collaboration Distance for the Sun:  R$_o$ = 8.178 kpc   (Abuter+2019 A&A 625)\n",
    "3. Value for Distance to Sun listed in Sparke & Gallagher : R$_o$ = 7.9 kpc \n"
   ]
  },
  {
   "cell_type": "markdown",
   "metadata": {},
   "source": [
    "### b)\n",
    "\n",
    "compute the orbital period of the sun in Gyr using R$_o$ from the GRAVITY Collaboration (assume circular orbit)\n",
    "\n",
    "Note that 1 km/s $\\sim$ 1kpc/Gyr"
   ]
  },
  {
   "cell_type": "code",
   "execution_count": 34,
   "metadata": {},
   "outputs": [
    {
     "name": "stdout",
     "output_type": "stream",
     "text": [
      "Water Maser Distance (Reid 2014): V_LSR = 239.93 km/s\n",
      "GRAVITY Collaboration (Abuter+2019): V_LSR = 235.03 km/s\n",
      "Sparke & Gallagher: V_LSR = 226.63 km/s\n",
      "Orbital period of the Sun (GRAVITY Collaboration R_o) = 0.22 Gyr\n"
     ]
    }
   ],
   "source": [
    "# This function computes the Local Standard of Rest (V_LSR) velocity.\n",
    "# Inputs: \n",
    "#   R_o (float): The distance from the Sun to the Galactic center in kpc.\n",
    "#   mu (float): The proper motion of Sgr A* in mas/yr.\n",
    "#   v_sun (float): The peculiar motion of the Sun in km/s.\n",
    "# Returns:\n",
    "#   float: The Local Standard of Rest (V_LSR) velocity in km/s.\n",
    "def VLSR(R_o, mu, v_sun):\n",
    "    v_tan = 4.74 * mu * R_o  # Tangential velocity in km/s, using proper motion and distance\n",
    "    V_LSR = v_tan - v_sun  # Subtract the Sun's peculiar motion\n",
    "    return V_LSR\n",
    "\n",
    "# Given values for proper motion and Sun's peculiar motion\n",
    "mu = 6.379  # Proper motion of Sgr A* in mas/yr\n",
    "v_sun = 12.24  # Peculiar motion of the Sun in km/s\n",
    "\n",
    "# Dictionary of different solar distances (R_o in kpc)\n",
    "R_o_values = {\n",
    "    \"Water Maser Distance (Reid 2014)\": 8.34,\n",
    "    \"GRAVITY Collaboration (Abuter+2019)\": 8.178,\n",
    "    \"Sparke & Gallagher\": 7.9\n",
    "}\n",
    "\n",
    "# Compute V_LSR for each solar distance\n",
    "V_LSR_values = {key: VLSR(R_o, mu, v_sun) for key, R_o in R_o_values.items()}\n",
    "\n",
    "# Compute the orbital period using R_o from GRAVITY Collaboration\n",
    "R_o_gravity = R_o_values[\"GRAVITY Collaboration (Abuter+2019)\"]\n",
    "V_LSR_gravity = VLSR(R_o_gravity, mu, v_sun)\n",
    "T_orbit = (2 * 3.141592653589793 * R_o_gravity) / V_LSR_gravity  # Orbital period in Gyr\n",
    "\n",
    "# Output the computed V_LSR values for each R_o\n",
    "for key, v_lsr in V_LSR_values.items():\n",
    "    print(f\"{key}: V_LSR = {v_lsr:.2f} km/s\")\n",
    "\n",
    "# Print the orbital period of the Sun based on the GRAVITY Collaboration distance\n",
    "print(f\"Orbital period of the Sun (GRAVITY Collaboration R_o) = {T_orbit:.2f} Gyr\")\n"
   ]
  },
  {
   "cell_type": "markdown",
   "metadata": {},
   "source": [
    "### c)\n",
    "\n",
    "Compute the number of rotations about the GC over the age of the universe (13.8 Gyr)"
   ]
  },
  {
   "cell_type": "code",
   "execution_count": 36,
   "metadata": {},
   "outputs": [
    {
     "name": "stdout",
     "output_type": "stream",
     "text": [
      "Number of rotations about the Galactic Center: 62.73\n"
     ]
    }
   ],
   "source": [
    "# This code computes the number of rotations the Sun has completed around the Galactic Center.\n",
    "# Inputs:\n",
    "#   age_universe (float): The age of the universe in Gyr.\n",
    "#   T_orbit (float): The orbital period of the Sun around the Galactic center in Gyr.\n",
    "# Returns:\n",
    "#   Outputs the number of rotations the Sun has made.\n",
    "#\n",
    "age_universe = 13.8  # Age of the universe in Gyr\n",
    "T_orbit = 0.22  # Orbital period of the Sun in Gyr from part (b)\n",
    "\n",
    "# Compute the number of rotations the Sun has completed around the Galactic center\n",
    "N_rotations = age_universe / T_orbit  # Dividing age of universe by orbital period to get number of rotations\n",
    "\n",
    "# Output\n",
    "print(f\"Number of rotations about the Galactic Center: {N_rotations:.2f}\")\n"
   ]
  },
  {
   "cell_type": "markdown",
   "metadata": {},
   "source": [
    "## Part B  Dark Matter Density Profiles\n",
    "\n",
    "### a)\n",
    "Try out Fitting Rotation Curves \n",
    "[here](http://wittman.physics.ucdavis.edu/Animations/RotationCurve/GalacticRotation.html)\n",
    "\n",
    "\n",
    "### b)\n",
    "\n",
    "\n",
    "In the Isothermal Sphere model, what is the mass enclosed within the solar radius (R$_o$) in units of M$_\\odot$? \n",
    "\n",
    "Recall that for the Isothermal sphere :\n",
    "$\\rho(r) = \\frac{V_{LSR}^2}{4\\pi G r^2}$\n",
    "\n",
    "Where $G$ = 4.4985e-6 kpc$^3$/Gyr$^2$/M$_\\odot$, r is in kpc and $V_{LSR}$ is in km/s\n",
    "\n",
    "What about at 260 kpc (in units of  M$_\\odot$) ? "
   ]
  },
  {
   "cell_type": "code",
   "execution_count": null,
   "metadata": {},
   "outputs": [],
   "source": [
    "# This function computes the enclosed mass in an isothermal sphere model.\n",
    "# Inputs:\n",
    "#   V_LSR (float): The Local Standard of Rest (V_LSR) velocity in km/s.\n",
    "#   r (float): The radial distance from the Galactic center in kpc.\n",
    "#   G (float, optional): The gravitational constant in units of kpc * km^2 / (M_sun * s^2), default is 4.4985e-6.\n",
    "# Returns:\n",
    "#   The enclosed mass in solar masses (M_sun).\n",
    "def enclosed_mass(V_LSR, r, G=4.4985e-6):\n",
    "    \"\"\"Compute the enclosed mass in an isothermal sphere model.\"\"\"\n",
    "    return (V_LSR**2 / G) * r  # Mass in M_sun\n",
    "\n",
    "# Given values\n",
    "V_LSR = 232.51  # Local Standard of Rest velocity in km/s (from part a, for R_o = 8.178 kpc)\n",
    "R_o = 8.178  # Radial distance in kpc (GRAVITY Collaboration)\n",
    "r_260 = 260  # Radial distance in kpc (for mass at 260 kpc)\n",
    "\n",
    "# Compute the enclosed mass at R_o and at 260 kpc\n",
    "M_sun_Ro = enclosed_mass(V_LSR, R_o)  # Enclosed mass at the solar radius\n",
    "M_sun_260 = enclosed_mass(V_LSR, r_260)  # Enclosed mass at 260 kpc\n",
    "\n",
    "# Output\n",
    "print(f\"Mass enclosed within the solar radius (R_o = {R_o} kpc): {M_sun_Ro:.2e} M_sun\")\n",
    "print(f\"Mass enclosed within 260 kpc: {M_sun_260:.2e} M_sun\")\n"
   ]
  },
  {
   "cell_type": "markdown",
   "metadata": {},
   "source": [
    "## c) \n",
    "\n",
    "The Leo I satellite is one of the fastest moving satellite galaxies we know. \n",
    "\n",
    "\n",
    "It is moving with 3D velocity of magnitude: Vtot = 196 km/s at a distance of 260 kpc (Sohn 2013 ApJ 768)\n",
    "\n",
    "If we assume that Leo I is moving at the escape speed:\n",
    "\n",
    "$v_{esc}^2 = 2|\\Phi| = 2 \\int G \\frac{\\rho(r)}{r}dV $ \n",
    "\n",
    "and assuming the Milky Way is well modeled by a Hernquist Sphere with a scale radius of $a$= 30 kpc, what is the minimum mass of the Milky Way (in units of M$_\\odot$) ?  \n",
    "\n",
    "How does this compare to estimates of the mass assuming the Isothermal Sphere model at 260 kpc (from your answer above)"
   ]
  },
  {
   "cell_type": "code",
   "execution_count": 38,
   "metadata": {},
   "outputs": [
    {
     "name": "stdout",
     "output_type": "stream",
     "text": [
      "Minimum Milky Way mass (Hernquist model): 1.24e+12 M_sun\n",
      "Mass from Isothermal Sphere model (260 kpc): 3.05e+12 M_sun\n",
      "Ratio (Hernquist / Isothermal): 0.41\n"
     ]
    }
   ],
   "source": [
    "# This function computes the minimum mass of the Milky Way assuming a Hernquist profile.\n",
    "# Inputs:\n",
    "#   v_esc (float): The escape velocity in km/s.\n",
    "#   r (float): The radial distance from the Galactic center in kpc.\n",
    "#   a (float): The scale radius in kpc for the Hernquist profile.\n",
    "#   G (float, optional): The gravitational constant in units of kpc * km^2 / (M_sun * s^2), default is 4.4985e-6.\n",
    "# Returns:\n",
    "#   The minimum mass of the Milky Way in solar masses (M_sun).\n",
    "def min_mass_hernquist(v_esc, r, a, G=4.4985e-6):\n",
    "    \"\"\"Compute the minimum Milky Way mass assuming Hernquist profile.\"\"\"\n",
    "    return (v_esc**2 * (r + a)) / (2 * G)  # Mass in M_sun\n",
    "\n",
    "# Given values for escape velocity, distance, and scale radius\n",
    "v_esc = 196  # Escape velocity in km/s\n",
    "r_leo = 260  # Radial distance from the Galactic center in kpc\n",
    "a_hernquist = 30  # Scale radius in kpc for the Hernquist profile\n",
    "\n",
    "# Compute the minimum Milky Way mass using the Hernquist profile\n",
    "M_min_hernquist = min_mass_hernquist(v_esc, r_leo, a_hernquist)  # Minimum mass in M_sun\n",
    "\n",
    "# Previously computed mass from the Isothermal Sphere model at 260 kpc\n",
    "M_iso_260 = 3.05e12  # Mass from Isothermal Sphere model in M_sun\n",
    "\n",
    "# Print results\n",
    "print(f\"Minimum Milky Way mass (Hernquist model): {M_min_hernquist:.2e} M_sun\")\n",
    "print(f\"Mass from Isothermal Sphere model (260 kpc): {M_iso_260:.2e} M_sun\")\n",
    "print(f\"Ratio (Hernquist / Isothermal): {M_min_hernquist / M_iso_260:.2f}\")\n"
   ]
  }
 ],
 "metadata": {
  "kernelspec": {
   "display_name": "Python 3 (ipykernel)",
   "language": "python",
   "name": "python3"
  },
  "language_info": {
   "codemirror_mode": {
    "name": "ipython",
    "version": 3
   },
   "file_extension": ".py",
   "mimetype": "text/x-python",
   "name": "python",
   "nbconvert_exporter": "python",
   "pygments_lexer": "ipython3",
   "version": "3.12.4"
  }
 },
 "nbformat": 4,
 "nbformat_minor": 4
}
