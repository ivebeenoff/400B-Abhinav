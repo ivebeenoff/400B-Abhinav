{
 "cells": [
  {
   "cell_type": "markdown",
   "metadata": {},
   "source": [
    "# Lab 5 ASTR 400B \n"
   ]
  },
  {
   "cell_type": "code",
   "execution_count": 115,
   "metadata": {},
   "outputs": [],
   "source": [
    "# ABHINAV VATSA\n",
    "# 400B\n",
    "# Import Modules \n",
    "import numpy as np\n",
    "import matplotlib.pyplot as plt\n",
    "import matplotlib\n",
    "from astropy import constants as const # import astropy constants\n",
    "import astropy.units as u"
   ]
  },
  {
   "cell_type": "markdown",
   "metadata": {},
   "source": [
    "# Part A :  Mass to Light Ratios \n",
    "\n",
    "Wolf et al. 2010 \n",
    "\n",
    "$M(<R_{half}) = \\frac {4}{G}\\sigma^2 R_e$\n",
    "\n",
    "Where $R_{half}$ = 3D half mass radius \n",
    "and $R_e$ is the 2D half mass radius of stars (observed)\n",
    "\n",
    "Determine which of the following two systems are galaxies:\n",
    "\n",
    "The system 47 Tuc is observed with:  $\\sigma = 17.3$ km/s, $R_e = 0.5$ pc, $L_v \\sim 10^5 L_\\odot$ \n",
    "\n",
    "The system Willman I is observed with: $\\sigma = 4.3$ km/s, $R_e = 25$ pc, $L_v = 10^3 L_\\odot$"
   ]
  },
  {
   "cell_type": "code",
   "execution_count": 28,
   "metadata": {},
   "outputs": [],
   "source": [
    "# Gravitational Constant in the desired units\n",
    "# kpc^3/Gyr^2/Msun\n",
    "Grav = const.G.to(u.kpc**3/u.Gyr**2/u.Msun)"
   ]
  },
  {
   "cell_type": "code",
   "execution_count": 38,
   "metadata": {},
   "outputs": [],
   "source": [
    "from astropy import units as u\n",
    "from astropy.constants import G\n",
    "\n",
    "def WolfMass(sigma, re):\n",
    "    \"\"\"Function that defines the Wolf mass estimator from Wolf+ 2010.\n",
    "\n",
    "    PARAMETERS\n",
    "    ----------\n",
    "    sigma : `~astropy.units.Quantity`\n",
    "        Velocity dispersion with units\n",
    "    re : `~astropy.units.Quantity`\n",
    "        Half-light radius with units\n",
    "\n",
    "    RETURNS\n",
    "    -------\n",
    "    mWolf : `~astropy.units.Quantity`\n",
    "        Estimated mass using the Wolf mass estimator in solar masses\n",
    "    \"\"\"\n",
    "    # Ensure inputs have the correct units\n",
    "    sigma = sigma * u.km / u.s if not isinstance(sigma, u.Quantity) else sigma\n",
    "    re = re * u.kpc if not isinstance(re, u.Quantity) else re\n",
    "\n",
    "    sigmaKpcGyr = sigma.to(u.kpc/u.Gyr)  # Convert velocity dispersion to kpc/Gyr\n",
    "    mWolf = (4 / Grav) * sigmaKpcGyr**2 * re  # Wolf mass estimator\n",
    "\n",
    "    return mWolf\n",
    "\n",
    "\n"
   ]
  },
  {
   "cell_type": "code",
   "execution_count": 40,
   "metadata": {},
   "outputs": [
    {
     "name": "stdout",
     "output_type": "stream",
     "text": [
      "139174962.55280226 solMass\n",
      "429908292.559276 solMass\n"
     ]
    }
   ],
   "source": [
    "mass1 = WolfMass(17.3, 0.5)\n",
    "mass2 = WolfMass(4.3, 25)\n",
    "\n",
    "print(mass1)\n",
    "print(mass2)"
   ]
  },
  {
   "cell_type": "markdown",
   "metadata": {},
   "source": [
    "# Part B :  Stellar to Halo Mass Relation\n",
    "\n",
    "Following the work of [Moster et al. 2013 (MNRAS, 428, 3121)](https://ui.adsabs.harvard.edu/abs/2013MNRAS.428.3121M/abstract)\n",
    "\n",
    "\n",
    "`Equation 2:`                  $ \\frac{m}{M} = 2N \\left [ \\left ( \\frac{M}{M_1} \\right)^{-\\beta} + \\left (\\frac{M}{M_1} \\right)^{\\gamma} \\right]$ \n",
    "\n",
    "$m$ = stellar mass, $M$ = halo mass\n",
    "\n",
    "`Equation 11:`        log $M_1(z) = M_{10} + M_{11} \\frac{z}{z+1} $ \n",
    "\n",
    "`Equation 12:`        $N(z) = N_{10} + N_{11} \\frac{z}{z+1} $\n",
    "\n",
    "`Equation 13:`         $\\beta(z) = \\beta_{10} + \\beta_{11} \\frac{z}{z+1} $\n",
    "\n",
    "`Equation 14:`         $\\gamma(z) = \\gamma_{10} + \\gamma_{11} \\frac{z}{z+1} $"
   ]
  },
  {
   "cell_type": "markdown",
   "metadata": {},
   "source": [
    "# Q1 \n",
    "\n",
    "Modify the class below by adding a function called `StellarMass` that uses the `SHMratio` function and returns the stellar mass."
   ]
  },
  {
   "cell_type": "code",
   "execution_count": 72,
   "metadata": {},
   "outputs": [],
   "source": [
    "class AbundanceMatching:\n",
    "    \"\"\" Class to define the abundance matching relations from \n",
    "    Moster et al. 2013, which relate the stellar mass of a galaxy\n",
    "    to the expected dark matter halo mass, according to \n",
    "    Lambda Cold Dark Matter (LCDM) theory \"\"\"\n",
    "    \n",
    "    \n",
    "    def __init__(self, mhalo, z):\n",
    "        \"\"\" Initialize the class\n",
    "        \n",
    "        PARAMETERS\n",
    "        ----------\n",
    "            mhalo: float\n",
    "                Halo mass in Msun\n",
    "            z: float\n",
    "                redshift\n",
    "        \"\"\"\n",
    "        \n",
    "        #initializing the parameters:\n",
    "        self.mhalo = mhalo # Halo Mass in Msun\n",
    "        self.z = z  # Redshift\n",
    "        \n",
    "        \n",
    "    def logM1(self):\n",
    "        \"\"\"eq. 11 of Moster 2013\n",
    "        OUTPUT: \n",
    "            M1: float \n",
    "                characteristic mass in log(Msun)\n",
    "        \"\"\"\n",
    "        M10      = 11.59\n",
    "        M11      = 1.195 \n",
    "        return M10 + M11*(self.z/(1+self.z))  \n",
    "    \n",
    "    \n",
    "    def N(self):\n",
    "        \"\"\"eq. 12 of Moster 2013\n",
    "        OUTPUT: \n",
    "            Normalization for eq. 2\n",
    "        \"\"\"\n",
    "        N10      = 0.0351\n",
    "        N11      = -0.0247\n",
    "    \n",
    "        return N10 + N11*(self.z/(1+self.z))\n",
    "    \n",
    "    \n",
    "    def Beta(self):\n",
    "        \"\"\"eq. 13 of Moster 2013\n",
    "        OUTPUT:  power of the low mass slope\"\"\"\n",
    "        beta10      = 1.376\n",
    "        beta11      = -0.826\n",
    "    \n",
    "        return beta10 + beta11*(self.z/(1+self.z))\n",
    "    \n",
    "    def Gamma(self):\n",
    "        \"\"\"eq. 14 of Moster 2013\n",
    "        OUTPUT: power of the high mass slope \"\"\"\n",
    "        gamma10      = 0.608\n",
    "        gamma11      = 0.329\n",
    "    \n",
    "        return gamma10 + gamma11*(self.z/(1+self.z))\n",
    "    \n",
    "    \n",
    "    def SHMratio(self):\n",
    "        \"\"\" \n",
    "        eq. 2 of Moster + 2013\n",
    "        The ratio of the stellar mass to the halo mass\n",
    "        \n",
    "        OUTPUT: \n",
    "            SHMratio float\n",
    "                Stellar mass to halo mass ratio\n",
    "        \"\"\"\n",
    "        M1 = 10**self.logM1() # Converting characteristic mass \n",
    "        # to Msun from Log(Msun)\n",
    "        \n",
    "        A = (self.mhalo/M1)**(-self.Beta())  # Low mass end\n",
    "        \n",
    "        B = (self.mhalo/M1)**(self.Gamma())   # High mass end\n",
    "        \n",
    "        Norm = 2*self.N() # Normalization\n",
    "    \n",
    "        SHMratio = Norm*(A+B)**(-1)\n",
    "    \n",
    "        return SHMratio \n",
    "    \n",
    " # Q1: add a function to the class that takes the SHM ratio and returns \n",
    "# The stellar mass \n",
    "    def stellar_mass(self):\n",
    "        \"\"\"\n",
    "        Compute the stellar mass from the SHM ratio.\n",
    "        \n",
    "        OUTPUT:\n",
    "            stellar_mass: float \n",
    "                Stellar mass in Msun\n",
    "        \"\"\"\n",
    "        return self.SHMratio() * self.mhalo  # Stellar Mass = SHM Ratio * Halo Mass\n",
    "        \n"
   ]
  },
  {
   "cell_type": "markdown",
   "metadata": {},
   "source": [
    "# Part C : Plot the Moster Relation\n",
    "\n",
    "Reproduce the below figure from Moster + 2013 \n",
    "Plot this for z=0, 0.5, 1, 2\n",
    "\n",
    "![mos](./MosterFig.png)"
   ]
  },
  {
   "cell_type": "code",
   "execution_count": 9,
   "metadata": {},
   "outputs": [],
   "source": [
    "mh = np.logspace(10,15,1000) # Logarithmically spaced array\n"
   ]
  },
  {
   "cell_type": "code",
   "execution_count": 99,
   "metadata": {},
   "outputs": [],
   "source": [
    "# Define Instances of the Class for each redshift\n",
    "MosterZ0 = [AbundanceMatching(m, 0).stellar_mass() for m in mh]  # z = 0\n",
    "MosterZ1 = [AbundanceMatching(m, 1).stellar_mass() for m in mh]  # z = 1\n",
    "MosterZ2 = [AbundanceMatching(m, 2).stellar_mass() for m in mh]  # z = 2"
   ]
  },
  {
   "cell_type": "code",
   "execution_count": 101,
   "metadata": {},
   "outputs": [
    {
     "data": {
      "image/png": "[encoded data removed]",
      "text/plain": [
       "<Figure size 1000x800 with 1 Axes>"
      ]
     },
     "metadata": {},
     "output_type": "display_data"
    }
   ],
   "source": [
    "\n",
    "fig,ax = plt.subplots(figsize=(10,8))\n",
    "\n",
    "\n",
    "#adjust tick label font size\n",
    "label_size = 22\n",
    "matplotlib.rcParams['xtick.labelsize'] = label_size \n",
    "matplotlib.rcParams['ytick.labelsize'] = label_size\n",
    "\n",
    "# Convert halo mass and stellar mass to log scale\n",
    "log_mh = np.log10(mh)\n",
    "log_MosterZ0 = np.log10(MosterZ0)\n",
    "log_MosterZ1 = np.log10(MosterZ1)\n",
    "log_MosterZ2 = np.log10(MosterZ2)\n",
    "\n",
    "\n",
    "# Plot z = 0\n",
    "plt.plot(log_mh, log_MosterZ0, linewidth=5, label='z=0')\n",
    "\n",
    "\n",
    "# Plot z = 1\n",
    "plt.plot(log_mh, log_MosterZ1, linewidth=5, linestyle='dashed', label='z=1')\n",
    "\n",
    "\n",
    "# Plot z = 2\n",
    "plt.plot(log_mh, log_MosterZ2, linewidth=5, label='z=2')\n",
    "\n",
    "\n",
    "# Axes labels \n",
    "plt.xlabel('log (M$_h$/M$_\\\\odot$)', fontsize=22) \n",
    "plt.ylabel('log (M$_\\\\star$/M$_\\\\odot$)', fontsize=22)\n",
    "\n",
    "# Legend\n",
    "plt.legend(loc='lower right',fontsize='x-large')\n",
    "\n",
    "# save the file \n",
    "plt.savefig(\"AbundanceMatching_Lab5.png\")\n",
    "\n"
   ]
  },
  {
   "cell_type": "markdown",
   "metadata": {},
   "source": [
    "# Part D\n",
    "\n",
    "# Q1\n",
    "\n",
    "In studies that have modeled the Magellanic Clouds prior to 2010, the LMC is traditioanlly modeled with a halo (dark matter) mass of order $3 \\times 10^{10}$M$_\\odot$.  \n",
    "\n",
    "## A) \n",
    "According to $\\Lambda$CDM theory, what should be the stellar mass of the LMC halo be at z=0?  \n",
    "\n",
    "## B) \n",
    "How does this stellar mass compare to the actual observed stellar mass of the LMC at the present day of ~$3 \\times 10^9$ M$_\\odot$ ? \n",
    "\n",
    "## C) \n",
    "What is the $\\Lambda$CDM expected halo mass for the LMC (using Abundance Matching)? "
   ]
  },
  {
   "cell_type": "code",
   "execution_count": 107,
   "metadata": {},
   "outputs": [
    {
     "name": "stdout",
     "output_type": "stream",
     "text": [
      "Expected Stellar Mass of LMC at z=0: 6.16e+07 M_sun\n",
      "CDM Predicted Stellar Mass (z=0): 6.16e+07 M_sun\n",
      "Observed Stellar Mass: 3.00e+09 M_sun\n",
      "Ratio (CDM Predicted / Observed): 0.02\n",
      "Expected Halo Mass of LMC from Abundance Matching: 1.46e+12 M_sun\n"
     ]
    }
   ],
   "source": [
    "### A\n",
    "lmc_halo_mass = 3e10  # 3 × 10^10 M_sun\n",
    "lmc_abundance = AbundanceMatching(lmc_halo_mass, z=0)\n",
    "lmc_stellar_mass = lmc_abundance.stellar_mass()\n",
    "print(f\"Expected Stellar Mass of LMC at z=0: {lmc_stellar_mass:.2e} M_sun\")\n",
    "\n",
    "###B \n",
    "lmc_halo_mass = 3e10  # Traditional halo mass of LMC in solar masses\n",
    "observed_stellar_mass = 3e9  # Observed stellar mass of LMC in solar masses\n",
    "\n",
    "lmc_abundance = AbundanceMatching(lmc_halo_mass, z=0) \n",
    "predicted_stellar_mass = lmc_abundance.stellar_mass() # Compute the predicted stellar mass using the AbundanceMatching class\n",
    "\n",
    "mass_ratio = predicted_stellar_mass / observed_stellar_mass # Compute the ratio\n",
    "\n",
    "print(f\"CDM Predicted Stellar Mass (z=0): {predicted_stellar_mass:.2e} M_sun\")\n",
    "print(f\"Observed Stellar Mass: {observed_stellar_mass:.2e} M_sun\")\n",
    "print(f\"Ratio (CDM Predicted / Observed): {mass_ratio:.2f}\")\n",
    "\n",
    "\n",
    "###C\n",
    "lmc_stellar_obs = 3e9  # Observed stellar mass\n",
    "expected_halo_mass = lmc_stellar_obs / lmc_abundance.SHMratio()\n",
    "print(f\"Expected Halo Mass of LMC from Abundance Matching: {expected_halo_mass:.2e} M_sun\")\n",
    "\n"
   ]
  },
  {
   "cell_type": "markdown",
   "metadata": {},
   "source": [
    "# Q2\n",
    "\n",
    "## A) \n",
    "What is the expected stellar mass of an L* galaxy at z=0? \n",
    "\n",
    "## B)\n",
    "What is the expected stellar mass of an L* galaxy at z = 2? "
   ]
  },
  {
   "cell_type": "code",
   "execution_count": 111,
   "metadata": {},
   "outputs": [
    {
     "name": "stdout",
     "output_type": "stream",
     "text": [
      "Log M1 for L* galaxy at z=0: 11.59\n",
      "Expected Stellar Mass of an L* Galaxy at z=0: 3.43e+10 M_sun\n",
      "Expected Stellar Mass of an L* Galaxy at z=2: 1.45e+10 M_sun\n"
     ]
    }
   ],
   "source": [
    "# Halo mass for an L* galaxy\n",
    "L_star_halo_mass = 1e12  # in solar masses\n",
    "\n",
    "# Create an instance of AbundanceMatching for z=0\n",
    "L_star_z0 = AbundanceMatching(L_star_halo_mass, z=0)\n",
    "\n",
    "# Find the characteristic mass (M1) for z=0\n",
    "M1halo_z0 = L_star_z0.logM1()\n",
    "print(f'Log M1 for L* galaxy at z=0: {M1halo_z0}')\n",
    "\n",
    "# Compute the expected stellar mass at z=0\n",
    "stellar_mass_z0 = L_star_z0.stellar_mass()\n",
    "print(f'Expected Stellar Mass of an L* Galaxy at z=0: {stellar_mass_z0:.2e} M_sun')\n",
    "\n",
    "# Create an instance of AbundanceMatching for z=2\n",
    "L_star_z2 = AbundanceMatching(L_star_halo_mass, z=2)\n",
    "\n",
    "# Compute the expected stellar mass at z=2\n",
    "stellar_mass_z2 = L_star_z2.stellar_mass()\n",
    "print(f'Expected Stellar Mass of an L* Galaxy at z=2: {stellar_mass_z2:.2e} M_sun')\n"
   ]
  },
  {
   "cell_type": "code",
   "execution_count": null,
   "metadata": {},
   "outputs": [],
   "source": []
  },
  {
   "cell_type": "code",
   "execution_count": null,
   "metadata": {},
   "outputs": [],
   "source": []
  }
 ],
 "metadata": {
  "kernelspec": {
   "display_name": "Python 3 (ipykernel)",
   "language": "python",
   "name": "python3"
  },
  "language_info": {
   "codemirror_mode": {
    "name": "ipython",
    "version": 3
   },
   "file_extension": ".py",
   "mimetype": "text/x-python",
   "name": "python",
   "nbconvert_exporter": "python",
   "pygments_lexer": "ipython3",
   "version": "3.12.4"
  }
 },
 "nbformat": 4,
 "nbformat_minor": 4
}
