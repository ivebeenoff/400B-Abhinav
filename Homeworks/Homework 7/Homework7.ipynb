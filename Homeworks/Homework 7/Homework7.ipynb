{
 "cells": [
  {
   "cell_type": "markdown",
   "metadata": {
    "ExecuteTime": {
     "end_time": "2020-01-26T08:48:31.926693Z",
     "start_time": "2020-01-26T08:48:31.923116Z"
    }
   },
   "source": [
    "# Homework 7 \n",
    "\n",
    "Rixin Li & G . Besla\n",
    "\n"
   ]
  },
  {
   "cell_type": "code",
   "execution_count": 3,
   "metadata": {},
   "outputs": [],
   "source": [
    "# Abhinav Vatsa\n",
    "# 400B"
   ]
  },
  {
   "cell_type": "code",
   "execution_count": 1,
   "metadata": {
    "ExecuteTime": {
     "end_time": "2020-03-16T03:13:30.748911Z",
     "start_time": "2020-03-16T03:13:30.745053Z"
    },
    "scrolled": true
   },
   "outputs": [
    {
     "name": "stdout",
     "output_type": "stream",
     "text": [
      "MW COM Position (kpc): [-2.07  2.95 -1.45] kpc\n",
      "MW COM Velocity (km/s): [ 0.94  6.32 -1.35] km / s\n",
      "M31 COM Position (kpc): [-377.66  611.43 -284.64] kpc\n",
      "M31 COM Velocity (km/s): [ 72.85 -72.14  49.  ] km / s\n",
      "M33 COM Position (kpc): [-476.22  491.44 -412.4 ] kpc\n",
      "M33 COM Velocity (km/s): [ 44.42 101.78 142.23] km / s\n",
      "MW-M31 Separation: 769.098 kpc\n",
      "MW-M31 Velocity: 117.738 km / s\n",
      "M33-M31 Separation: 201.083 kpc\n",
      "M33-M31 Velocity: 199.370 km / s\n",
      "\n",
      "Galaxy: Milky Way\n",
      "MW_000.txt\n",
      "Halo Mass: 1.975 x 10^12 M☉\n",
      "Disk Mass: 0.075 x 10^12 M☉\n",
      "Bulge Mass: 0.01 x 10^12 M☉\n",
      "\n",
      "Galaxy: Andromeda (M31)\n",
      "M31_000.txt\n",
      "Halo Mass: 1.921 x 10^12 M☉\n",
      "Disk Mass: 0.12 x 10^12 M☉\n",
      "Bulge Mass: 0.019 x 10^12 M☉\n",
      "\n",
      "Galaxy: Triangulum (M33)\n",
      "M33_000.txt\n",
      "Halo Mass: 0.187 x 10^12 M☉\n",
      "Disk Mass: 0.009 x 10^12 M☉\n",
      "Bulge Mass: 0.0 x 10^12 M☉\n"
     ]
    }
   ],
   "source": [
    "# import necessary modules\n",
    "# numpy provides powerful multi-dimensional arrays to hold and manipulate data\n",
    "import numpy as np\n",
    "# matplotlib provides powerful functions for plotting figures\n",
    "import matplotlib.pyplot as plt\n",
    "# astropy provides unit system and constants for astronomical calculations\n",
    "import astropy.units as u\n",
    "import astropy.constants as const\n",
    "# import Latex module so we can display the results with symbols\n",
    "from IPython.display import Latex\n",
    "%matplotlib inline\n",
    "\n",
    "# import CenterOfMass to determine the COM pos/vel of M33\n",
    "import CenterOfMass\n",
    "\n",
    "# import the GalaxyMass to determine the mass of M31 for each component\n",
    "import GalaxyMass"
   ]
  },
  {
   "cell_type": "markdown",
   "metadata": {},
   "source": [
    "# M33AnalyticOrbit"
   ]
  },
  {
   "cell_type": "code",
   "execution_count": 17,
   "metadata": {
    "ExecuteTime": {
     "end_time": "2020-03-16T03:08:14.820296Z",
     "start_time": "2020-03-16T03:08:14.800707Z"
    }
   },
   "outputs": [],
   "source": [
    "class M33AnalyticOrbit:\n",
    "    \"\"\" \n",
    "    This class computes the analytical orbit of M33 around M31 using numerical integration, specifically the leapfrog method. \n",
    "    This model assumes a combination of a Hernquist halo, a Hernquist bulge, and a Miyamoto-Nagai disk for M31.\n",
    "    \"\"\"\n",
    "\n",
    "    def __init__(self, filename):\n",
    "        \"\"\" \n",
    "        Initializes the parameters required to compute M33's orbit around M31.\n",
    "        \n",
    "        Parameters:\n",
    "        filename : str\n",
    "            The name of the file where the computed orbit will be saved. The working directory is my Downloads folder, which is where the file should be saved on my system. \n",
    "        \"\"\"\n",
    "        \n",
    "        # Define the gravitational constant in kpc^3 / Msun / Gyr^2\n",
    "        self.G = const.G.to(u.kpc**3/u.Msun/u.Gyr**2).value\n",
    "        \n",
    "        # Store output filename \n",
    "        self.filename = filename\n",
    "        \n",
    "        # Use provided COM values (in kpc and km/s)\n",
    "        # M33 COM Position (kpc)\n",
    "        self.posM33 = np.array([-476.22, 491.44, -412.4])  # kpc\n",
    "        # M33 COM Velocity (km/s)\n",
    "        self.velM33 = np.array([44.42, 101.78, 142.23])  # km/s\n",
    "        \n",
    "        # M31 COM Position (kpc)\n",
    "        self.posM31 = np.array([-377.66, 611.43, -284.64])  # kpc\n",
    "        # M31 COM Velocity (km/s)\n",
    "        self.velM31 = np.array([72.85, -72.14, 49.0])  # km/s\n",
    "        \n",
    "        # Compute the initial relative position and velocity vectors of M33 with respect to M31\n",
    "        self.r0 = self.posM33 - self.posM31  # Relative position (kpc)\n",
    "        self.v0 = self.velM33 - self.velM31  # Relative velocity (km/s)\n",
    "        \n",
    "        # Retrieve mass and scale lengths for M31's mass components\n",
    "        self.rdisk = 5  # Scale length of the disk (kpc)\n",
    "        self.Mdisk = 0.12 * 1e12  # Disk mass of M31 (Msun)\n",
    "        \n",
    "        self.rbulge = 1  # Scale length of the bulge (kpc)\n",
    "        self.Mbulge = 0.019 * 1e12  # Bulge mass of M31 (Msun)\n",
    "        \n",
    "        self.rhalo = 62  # Scale length of the halo (kpc)\n",
    "        self.Mhalo = 1.921 * 1e12  # Halo mass of M31 (Msun)\n",
    "    \n",
    "    def HernquistAccel(self, r, M, a):\n",
    "        \"\"\" \n",
    "        Compute the acceleration due to a Hernquist potential. The formula for Hernquist acceleration is taken from his famous paper from 1990 for the APJ. \n",
    "        \n",
    "        Parameters:\n",
    "        r : ndarray\n",
    "            Position vector where the acceleration is computed (kpc).\n",
    "        M : float\n",
    "            Mass of the component (Msun).\n",
    "        a : float\n",
    "            Scale length of the component (kpc).\n",
    "        \n",
    "        Returns:\n",
    "        ndarray\n",
    "            Acceleration vector (kpc/Gyr^2).\n",
    "        \"\"\"\n",
    "        rmag = np.linalg.norm(r)  # Compute magnitude of position vector (kpc) using the norm\n",
    "        return -self.G * M / (rmag * (a + rmag)**2) * r\n",
    "    \n",
    "    def MiyamotoNagaiAccel(self, r, M, a, b):\n",
    "        \"\"\" \n",
    "        Compute the acceleration due to a Miyamoto-Nagai disk potential.\n",
    "        \n",
    "        Parameters:\n",
    "        r : ndarray\n",
    "            Position vector where the acceleration is computed (kpc).\n",
    "        M : float\n",
    "            Mass of the disk component (Msun).\n",
    "        a : float\n",
    "            Radial scale length (kpc).\n",
    "        b : float\n",
    "            Vertical scale length (kpc).\n",
    "        \n",
    "        Returns:\n",
    "        ndarray\n",
    "            Acceleration vector (kpc/Gyr^2).\n",
    "        \"\"\"\n",
    "        R = np.sqrt(r[0]**2 + r[1]**2)  # Cylindrical radial distance (kpc)\n",
    "        z = r[2]  # Vertical distance (kpc)\n",
    "        B = np.sqrt(z**2 + b**2)  # Effective height of the disk\n",
    "        \n",
    "        # Compute the acceleration components using the formula provided\n",
    "        factor = -self.G * M / (R**2 + (a + B)**2)**(3/2)\n",
    "        return factor * np.array([r[0], r[1], (B / (B + a)) * r[2]])\n",
    "    \n",
    "    def M31Accel(self, r):\n",
    "        \"\"\" \n",
    "        Compute the total acceleration on M33 due to M31's mass components. \n",
    "        \n",
    "        Parameters:\n",
    "        r : ndarray\n",
    "            Position vector relative to M31 (kpc).\n",
    "        \n",
    "        Returns:\n",
    "        ndarray\n",
    "            Total acceleration vector (kpc/Gyr^2).\n",
    "        \"\"\"\n",
    "        return (self.HernquistAccel(r, self.Mhalo, self.rhalo) +\n",
    "                self.HernquistAccel(r, self.Mbulge, self.rbulge) +\n",
    "                self.MiyamotoNagaiAccel(r, self.Mdisk, self.rdisk, 0.3))\n",
    "    \n",
    "    def LeapFrog(self, r, v, dt):\n",
    "        \"\"\" \n",
    "        Perform a single step of the Leapfrog integration method.\n",
    "        \n",
    "        Parameters:\n",
    "        r : ndarray\n",
    "            Current position vector (kpc).\n",
    "        v : ndarray\n",
    "            Current velocity vector (kpc/Gyr).\n",
    "        dt : float\n",
    "            Time step (Gyr).\n",
    "        \n",
    "        Returns:\n",
    "        tuple of ndarray\n",
    "            Updated position and velocity vectors.\n",
    "        \"\"\"\n",
    "        rhalf = r + v * (dt / 2)  # Compute half-step position\n",
    "        vnew = v + self.M31Accel(rhalf) * dt  # Update velocity using acceleration at half-step\n",
    "        rnew = rhalf + vnew * (dt / 2)  # Compute new position using updated velocity\n",
    "        return rnew, vnew\n",
    "    \n",
    "    def OrbitIntegration(self, t0, dt, tmax):\n",
    "        \"\"\" \n",
    "        Integrate the orbit of M33 around M31 using the Leapfrog method. This method allows for stability and backtracking.\n",
    "        \n",
    "        Parameters:\n",
    "        t0 : float\n",
    "            Initial time (Gyr).\n",
    "        dt : float\n",
    "            Time step (Gyr).\n",
    "        tmax : float\n",
    "            Maximum integration time (Gyr).\n",
    "        \"\"\"\n",
    "        t = t0  # Initialize time\n",
    "        steps = int(tmax / dt) + 1  # Number of integration steps\n",
    "        orbit = np.zeros((steps, 7))  # Array to store time, position, and velocity data\n",
    "        \n",
    "        # Initial conditions\n",
    "        orbit[0] = [t0, *self.r0, *self.v0]\n",
    "        \n",
    "        # Integrate the orbit in a step-by-step manner\n",
    "        for i in range(1, steps):\n",
    "            t += dt\n",
    "            self.r0, self.v0 = self.LeapFrog(self.r0, self.v0, dt)  # Update position and velocity\n",
    "            \n",
    "            # Storing the new values\n",
    "            orbit[i] = [t, *self.r0, *self.v0]\n",
    "        \n",
    "        # Save the orbit data to a file\n",
    "        np.savetxt(self.filename, orbit, fmt=\"%11.3f\"*7, comments='#',\n",
    "           header=\"{:>10s}{:>11s}{:>11s}{:>11s}{:>11s}{:>11s}{:>11s}\".format(\n",
    "               't', 'x', 'y', 'z', 'vx', 'vy', 'vz'))\n"
   ]
  },
  {
   "cell_type": "code",
   "execution_count": 19,
   "metadata": {},
   "outputs": [],
   "source": [
    "# An instance of the M33AnalyticOrbit class with a chosen filename to save the results\n",
    "orbit_calculator = M33AnalyticOrbit('m33_orbit_results.txt')\n",
    "\n",
    "# Call the OrbitIntegration method within the class with the necessary parameters. \n",
    "orbit_calculator.OrbitIntegration(t0=0, dt=0.01, tmax=100)\n"
   ]
  },
  {
   "cell_type": "code",
   "execution_count": null,
   "metadata": {},
   "outputs": [],
   "source": []
  }
 ],
 "metadata": {
  "kernelspec": {
   "display_name": "Python 3 (ipykernel)",
   "language": "python",
   "name": "python3"
  },
  "language_info": {
   "codemirror_mode": {
    "name": "ipython",
    "version": 3
   },
   "file_extension": ".py",
   "mimetype": "text/x-python",
   "name": "python",
   "nbconvert_exporter": "python",
   "pygments_lexer": "ipython3",
   "version": "3.12.4"
  },
  "varInspector": {
   "cols": {
    "lenName": 16,
    "lenType": 16,
    "lenVar": 40
   },
   "kernels_config": {
    "python": {
     "delete_cmd_postfix": "",
     "delete_cmd_prefix": "del ",
     "library": "var_list.py",
     "varRefreshCmd": "print(var_dic_list())"
    },
    "r": {
     "delete_cmd_postfix": ") ",
     "delete_cmd_prefix": "rm(",
     "library": "var_list.r",
     "varRefreshCmd": "cat(var_dic_list()) "
    }
   },
   "types_to_exclude": [
    "module",
    "function",
    "builtin_function_or_method",
    "instance",
    "_Feature"
   ],
   "window_display": false
  }
 },
 "nbformat": 4,
 "nbformat_minor": 4
}
